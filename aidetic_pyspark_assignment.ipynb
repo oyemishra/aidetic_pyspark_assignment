{
 "cells": [
  {
   "cell_type": "code",
   "execution_count": 113,
   "id": "2e14c2f5",
   "metadata": {},
   "outputs": [],
   "source": [
    "# importing necessary libraries\n",
    "\n",
    "import pandas as pd\n",
    "from sqlalchemy import create_engine\n",
    "import json\n",
    "import pyspark\n",
    "from pyspark.sql import SparkSession\n",
    "from pyspark.sql.functions import *\n",
    "from pyspark.sql.types import *\n",
    "from matplotlib import pyplot as plt"
   ]
  },
  {
   "cell_type": "code",
   "execution_count": 2,
   "id": "23eddacc",
   "metadata": {},
   "outputs": [],
   "source": [
    "# read the configuration\n",
    "with open('configuration.json') as f:\n",
    "    conf = json.load(f)"
   ]
  },
  {
   "cell_type": "code",
   "execution_count": 3,
   "id": "c9d8abfa",
   "metadata": {},
   "outputs": [
    {
     "data": {
      "text/html": [
       "<div>\n",
       "<style scoped>\n",
       "    .dataframe tbody tr th:only-of-type {\n",
       "        vertical-align: middle;\n",
       "    }\n",
       "\n",
       "    .dataframe tbody tr th {\n",
       "        vertical-align: top;\n",
       "    }\n",
       "\n",
       "    .dataframe thead th {\n",
       "        text-align: right;\n",
       "    }\n",
       "</style>\n",
       "<table border=\"1\" class=\"dataframe\">\n",
       "  <thead>\n",
       "    <tr style=\"text-align: right;\">\n",
       "      <th></th>\n",
       "      <th>Date</th>\n",
       "      <th>Time</th>\n",
       "      <th>Latitude</th>\n",
       "      <th>Longitude</th>\n",
       "      <th>Type</th>\n",
       "      <th>Depth</th>\n",
       "      <th>Depth Error</th>\n",
       "      <th>Depth Seismic Stations</th>\n",
       "      <th>Magnitude</th>\n",
       "      <th>Magnitude Type</th>\n",
       "      <th>...</th>\n",
       "      <th>Magnitude Seismic Stations</th>\n",
       "      <th>Azimuthal Gap</th>\n",
       "      <th>Horizontal Distance</th>\n",
       "      <th>Horizontal Error</th>\n",
       "      <th>Root Mean Square</th>\n",
       "      <th>ID</th>\n",
       "      <th>Source</th>\n",
       "      <th>Location Source</th>\n",
       "      <th>Magnitude Source</th>\n",
       "      <th>Status</th>\n",
       "    </tr>\n",
       "  </thead>\n",
       "  <tbody>\n",
       "    <tr>\n",
       "      <th>0</th>\n",
       "      <td>01/02/1965</td>\n",
       "      <td>13:44:18</td>\n",
       "      <td>19.246</td>\n",
       "      <td>145.616</td>\n",
       "      <td>Earthquake</td>\n",
       "      <td>131.6</td>\n",
       "      <td>NaN</td>\n",
       "      <td>NaN</td>\n",
       "      <td>6.0</td>\n",
       "      <td>MW</td>\n",
       "      <td>...</td>\n",
       "      <td>NaN</td>\n",
       "      <td>NaN</td>\n",
       "      <td>NaN</td>\n",
       "      <td>NaN</td>\n",
       "      <td>NaN</td>\n",
       "      <td>ISCGEM860706</td>\n",
       "      <td>ISCGEM</td>\n",
       "      <td>ISCGEM</td>\n",
       "      <td>ISCGEM</td>\n",
       "      <td>Automatic</td>\n",
       "    </tr>\n",
       "    <tr>\n",
       "      <th>1</th>\n",
       "      <td>01/04/1965</td>\n",
       "      <td>11:29:49</td>\n",
       "      <td>1.863</td>\n",
       "      <td>127.352</td>\n",
       "      <td>Earthquake</td>\n",
       "      <td>80.0</td>\n",
       "      <td>NaN</td>\n",
       "      <td>NaN</td>\n",
       "      <td>5.8</td>\n",
       "      <td>MW</td>\n",
       "      <td>...</td>\n",
       "      <td>NaN</td>\n",
       "      <td>NaN</td>\n",
       "      <td>NaN</td>\n",
       "      <td>NaN</td>\n",
       "      <td>NaN</td>\n",
       "      <td>ISCGEM860737</td>\n",
       "      <td>ISCGEM</td>\n",
       "      <td>ISCGEM</td>\n",
       "      <td>ISCGEM</td>\n",
       "      <td>Automatic</td>\n",
       "    </tr>\n",
       "    <tr>\n",
       "      <th>2</th>\n",
       "      <td>01/05/1965</td>\n",
       "      <td>18:05:58</td>\n",
       "      <td>-20.579</td>\n",
       "      <td>-173.972</td>\n",
       "      <td>Earthquake</td>\n",
       "      <td>20.0</td>\n",
       "      <td>NaN</td>\n",
       "      <td>NaN</td>\n",
       "      <td>6.2</td>\n",
       "      <td>MW</td>\n",
       "      <td>...</td>\n",
       "      <td>NaN</td>\n",
       "      <td>NaN</td>\n",
       "      <td>NaN</td>\n",
       "      <td>NaN</td>\n",
       "      <td>NaN</td>\n",
       "      <td>ISCGEM860762</td>\n",
       "      <td>ISCGEM</td>\n",
       "      <td>ISCGEM</td>\n",
       "      <td>ISCGEM</td>\n",
       "      <td>Automatic</td>\n",
       "    </tr>\n",
       "    <tr>\n",
       "      <th>3</th>\n",
       "      <td>01/08/1965</td>\n",
       "      <td>18:49:43</td>\n",
       "      <td>-59.076</td>\n",
       "      <td>-23.557</td>\n",
       "      <td>Earthquake</td>\n",
       "      <td>15.0</td>\n",
       "      <td>NaN</td>\n",
       "      <td>NaN</td>\n",
       "      <td>5.8</td>\n",
       "      <td>MW</td>\n",
       "      <td>...</td>\n",
       "      <td>NaN</td>\n",
       "      <td>NaN</td>\n",
       "      <td>NaN</td>\n",
       "      <td>NaN</td>\n",
       "      <td>NaN</td>\n",
       "      <td>ISCGEM860856</td>\n",
       "      <td>ISCGEM</td>\n",
       "      <td>ISCGEM</td>\n",
       "      <td>ISCGEM</td>\n",
       "      <td>Automatic</td>\n",
       "    </tr>\n",
       "    <tr>\n",
       "      <th>4</th>\n",
       "      <td>01/09/1965</td>\n",
       "      <td>13:32:50</td>\n",
       "      <td>11.938</td>\n",
       "      <td>126.427</td>\n",
       "      <td>Earthquake</td>\n",
       "      <td>15.0</td>\n",
       "      <td>NaN</td>\n",
       "      <td>NaN</td>\n",
       "      <td>5.8</td>\n",
       "      <td>MW</td>\n",
       "      <td>...</td>\n",
       "      <td>NaN</td>\n",
       "      <td>NaN</td>\n",
       "      <td>NaN</td>\n",
       "      <td>NaN</td>\n",
       "      <td>NaN</td>\n",
       "      <td>ISCGEM860890</td>\n",
       "      <td>ISCGEM</td>\n",
       "      <td>ISCGEM</td>\n",
       "      <td>ISCGEM</td>\n",
       "      <td>Automatic</td>\n",
       "    </tr>\n",
       "  </tbody>\n",
       "</table>\n",
       "<p>5 rows × 21 columns</p>\n",
       "</div>"
      ],
      "text/plain": [
       "         Date      Time  Latitude  Longitude        Type  Depth  Depth Error  \\\n",
       "0  01/02/1965  13:44:18    19.246    145.616  Earthquake  131.6          NaN   \n",
       "1  01/04/1965  11:29:49     1.863    127.352  Earthquake   80.0          NaN   \n",
       "2  01/05/1965  18:05:58   -20.579   -173.972  Earthquake   20.0          NaN   \n",
       "3  01/08/1965  18:49:43   -59.076    -23.557  Earthquake   15.0          NaN   \n",
       "4  01/09/1965  13:32:50    11.938    126.427  Earthquake   15.0          NaN   \n",
       "\n",
       "   Depth Seismic Stations  Magnitude Magnitude Type  ...  \\\n",
       "0                     NaN        6.0             MW  ...   \n",
       "1                     NaN        5.8             MW  ...   \n",
       "2                     NaN        6.2             MW  ...   \n",
       "3                     NaN        5.8             MW  ...   \n",
       "4                     NaN        5.8             MW  ...   \n",
       "\n",
       "   Magnitude Seismic Stations  Azimuthal Gap  Horizontal Distance  \\\n",
       "0                         NaN            NaN                  NaN   \n",
       "1                         NaN            NaN                  NaN   \n",
       "2                         NaN            NaN                  NaN   \n",
       "3                         NaN            NaN                  NaN   \n",
       "4                         NaN            NaN                  NaN   \n",
       "\n",
       "   Horizontal Error  Root Mean Square            ID  Source Location Source  \\\n",
       "0               NaN               NaN  ISCGEM860706  ISCGEM          ISCGEM   \n",
       "1               NaN               NaN  ISCGEM860737  ISCGEM          ISCGEM   \n",
       "2               NaN               NaN  ISCGEM860762  ISCGEM          ISCGEM   \n",
       "3               NaN               NaN  ISCGEM860856  ISCGEM          ISCGEM   \n",
       "4               NaN               NaN  ISCGEM860890  ISCGEM          ISCGEM   \n",
       "\n",
       "  Magnitude Source     Status  \n",
       "0           ISCGEM  Automatic  \n",
       "1           ISCGEM  Automatic  \n",
       "2           ISCGEM  Automatic  \n",
       "3           ISCGEM  Automatic  \n",
       "4           ISCGEM  Automatic  \n",
       "\n",
       "[5 rows x 21 columns]"
      ]
     },
     "execution_count": 3,
     "metadata": {},
     "output_type": "execute_result"
    }
   ],
   "source": [
    "# reading data from the csv file\n",
    "data = pd.read_csv(\"database.csv\")\n",
    "data.head()"
   ]
  },
  {
   "cell_type": "code",
   "execution_count": 4,
   "id": "30737a80",
   "metadata": {},
   "outputs": [],
   "source": [
    "# Replace NaN with None, which represents NULL in Python\n",
    "# data.replace({pd.NA: None}, inplace=True)"
   ]
  },
  {
   "cell_type": "code",
   "execution_count": 5,
   "id": "81c60486",
   "metadata": {},
   "outputs": [
    {
     "data": {
      "text/plain": [
       "23412"
      ]
     },
     "execution_count": 5,
     "metadata": {},
     "output_type": "execute_result"
    }
   ],
   "source": [
    "# Your MySQL connection parameters\n",
    "mysql_user = conf['user']\n",
    "mysql_password = conf['password']\n",
    "mysql_host = conf['host']\n",
    "mysql_db = 'aidetic'\n",
    "\n",
    "# Create a SQLAlchemy engine\n",
    "engine = create_engine(f'mysql+mysqlconnector://{mysql_user}:{mysql_password}@{mysql_host}/{mysql_db}')\n",
    "\n",
    "# Your table name in MySQL\n",
    "table_name = 'neic_earthquakes'\n",
    "\n",
    "# Use pandas to_sql() function to insert data into MySQL table\n",
    "data.to_sql(name=table_name, con=engine, if_exists='replace', index=False)"
   ]
  },
  {
   "cell_type": "code",
   "execution_count": 6,
   "id": "257cc385",
   "metadata": {},
   "outputs": [],
   "source": [
    "spark = SparkSession.builder.\\\n",
    "        master('local[*]').appName('aidetic_assignment').getOrCreate()"
   ]
  },
  {
   "cell_type": "code",
   "execution_count": 7,
   "id": "e245e851",
   "metadata": {},
   "outputs": [],
   "source": [
    "# MySQL connection properties\n",
    "mysql_properties = {\n",
    "    \"url\": f\"jdbc:mysql://localhost:3306\",\n",
    "    \"driver\": \"com.mysql.jdbc.Driver\",\n",
    "    \"user\": mysql_user,\n",
    "    \"password\": conf['pass_mysql']\n",
    "}"
   ]
  },
  {
   "cell_type": "code",
   "execution_count": 8,
   "id": "9efd5768",
   "metadata": {},
   "outputs": [],
   "source": [
    "# Read data from MySQL using SQLAlchemy\n",
    "query = f\"SELECT * FROM {table_name}\"\n",
    "df = spark.read.format(\"jdbc\").option(\"url\", mysql_properties[\"url\"]) \\\n",
    "    .option(\"driver\", mysql_properties[\"driver\"]) \\\n",
    "    .option(\"dbtable\", \"aidetic.neic_earthquakes\") \\\n",
    "    .option(\"user\", mysql_properties[\"user\"]) \\\n",
    "    .option(\"password\", mysql_properties[\"password\"]) \\\n",
    "    .option(\"inferSchema\", \"True\") \\\n",
    "    .load()"
   ]
  },
  {
   "cell_type": "code",
   "execution_count": 9,
   "id": "a793010f",
   "metadata": {},
   "outputs": [
    {
     "name": "stdout",
     "output_type": "stream",
     "text": [
      "+----------+--------+--------+---------+----------+-----+-----------+----------------------+---------+--------------+---------------+--------------------------+-------------+-------------------+----------------+----------------+------------+------+---------------+----------------+---------+\n",
      "|      Date|    Time|Latitude|Longitude|      Type|Depth|Depth Error|Depth Seismic Stations|Magnitude|Magnitude Type|Magnitude Error|Magnitude Seismic Stations|Azimuthal Gap|Horizontal Distance|Horizontal Error|Root Mean Square|          ID|Source|Location Source|Magnitude Source|   Status|\n",
      "+----------+--------+--------+---------+----------+-----+-----------+----------------------+---------+--------------+---------------+--------------------------+-------------+-------------------+----------------+----------------+------------+------+---------------+----------------+---------+\n",
      "|01/02/1965|13:44:18|  19.246|  145.616|Earthquake|131.6|       NULL|                  NULL|      6.0|            MW|           NULL|                      NULL|         NULL|               NULL|            NULL|            NULL|ISCGEM860706|ISCGEM|         ISCGEM|          ISCGEM|Automatic|\n",
      "|01/04/1965|11:29:49|   1.863|  127.352|Earthquake| 80.0|       NULL|                  NULL|      5.8|            MW|           NULL|                      NULL|         NULL|               NULL|            NULL|            NULL|ISCGEM860737|ISCGEM|         ISCGEM|          ISCGEM|Automatic|\n",
      "+----------+--------+--------+---------+----------+-----+-----------+----------------------+---------+--------------+---------------+--------------------------+-------------+-------------------+----------------+----------------+------------+------+---------------+----------------+---------+\n",
      "only showing top 2 rows\n",
      "\n"
     ]
    }
   ],
   "source": [
    "df.show(2)"
   ]
  },
  {
   "cell_type": "code",
   "execution_count": 10,
   "id": "37ed2d23",
   "metadata": {},
   "outputs": [
    {
     "name": "stdout",
     "output_type": "stream",
     "text": [
      "root\n",
      " |-- Date: string (nullable = true)\n",
      " |-- Time: string (nullable = true)\n",
      " |-- Latitude: double (nullable = true)\n",
      " |-- Longitude: double (nullable = true)\n",
      " |-- Type: string (nullable = true)\n",
      " |-- Depth: double (nullable = true)\n",
      " |-- Depth Error: double (nullable = true)\n",
      " |-- Depth Seismic Stations: double (nullable = true)\n",
      " |-- Magnitude: double (nullable = true)\n",
      " |-- Magnitude Type: string (nullable = true)\n",
      " |-- Magnitude Error: double (nullable = true)\n",
      " |-- Magnitude Seismic Stations: double (nullable = true)\n",
      " |-- Azimuthal Gap: double (nullable = true)\n",
      " |-- Horizontal Distance: double (nullable = true)\n",
      " |-- Horizontal Error: double (nullable = true)\n",
      " |-- Root Mean Square: double (nullable = true)\n",
      " |-- ID: string (nullable = true)\n",
      " |-- Source: string (nullable = true)\n",
      " |-- Location Source: string (nullable = true)\n",
      " |-- Magnitude Source: string (nullable = true)\n",
      " |-- Status: string (nullable = true)\n",
      "\n"
     ]
    }
   ],
   "source": [
    "df.printSchema()"
   ]
  },
  {
   "cell_type": "markdown",
   "id": "3c8cd743",
   "metadata": {},
   "source": [
    "###  How does the Day of a Week affect the number of earthquakes?"
   ]
  },
  {
   "cell_type": "code",
   "execution_count": 11,
   "id": "d511019f",
   "metadata": {},
   "outputs": [
    {
     "name": "stdout",
     "output_type": "stream",
     "text": [
      "+------------------------+\n",
      "|Date                    |\n",
      "+------------------------+\n",
      "|1975-02-23T02:58:41.000Z|\n",
      "|1985-04-28T02:53:41.530Z|\n",
      "|2011-03-13T02:23:34.520Z|\n",
      "+------------------------+\n",
      "\n"
     ]
    }
   ],
   "source": [
    "# detecting the different date format in the date column\n",
    "# we are assuming that maximum date are in MM/dd/yyyy format, we are trying to detect other formats.\n",
    "\n",
    "df.withColumn('dateformat_detection', when(col('Date').like(\"__/__/____\"), 'known').otherwise('Unknown')) \\\n",
    ".filter(col('dateformat_detection')=='Unknown').select(['Date']).show(truncate=False)"
   ]
  },
  {
   "cell_type": "code",
   "execution_count": 12,
   "id": "1dae4324",
   "metadata": {},
   "outputs": [],
   "source": [
    "# converting the date column into same format to maintain homegeneity\n",
    "\n",
    "df = df.withColumn('Date', when(to_date(col('Date'),'MM/dd/yyyy').isNotNull(), to_date(col('Date'),'MM/dd/yyyy')) \\\n",
    "                   .when(date_format(col('Date'),'yyyy-MM-dd').isNotNull(),date_format(col('Date'),'yyyy-MM-dd')))"
   ]
  },
  {
   "cell_type": "code",
   "execution_count": 13,
   "id": "26dc04a2",
   "metadata": {},
   "outputs": [],
   "source": [
    "# converting the date column type from string to date\n",
    "\n",
    "df = df.withColumn('Date', to_date(col('Date'), 'yyyy-MM-dd'))"
   ]
  },
  {
   "cell_type": "code",
   "execution_count": 14,
   "id": "b2b8f995",
   "metadata": {},
   "outputs": [
    {
     "name": "stdout",
     "output_type": "stream",
     "text": [
      "root\n",
      " |-- Date: date (nullable = true)\n",
      " |-- Time: string (nullable = true)\n",
      " |-- Latitude: double (nullable = true)\n",
      " |-- Longitude: double (nullable = true)\n",
      " |-- Type: string (nullable = true)\n",
      " |-- Depth: double (nullable = true)\n",
      " |-- Depth Error: double (nullable = true)\n",
      " |-- Depth Seismic Stations: double (nullable = true)\n",
      " |-- Magnitude: double (nullable = true)\n",
      " |-- Magnitude Type: string (nullable = true)\n",
      " |-- Magnitude Error: double (nullable = true)\n",
      " |-- Magnitude Seismic Stations: double (nullable = true)\n",
      " |-- Azimuthal Gap: double (nullable = true)\n",
      " |-- Horizontal Distance: double (nullable = true)\n",
      " |-- Horizontal Error: double (nullable = true)\n",
      " |-- Root Mean Square: double (nullable = true)\n",
      " |-- ID: string (nullable = true)\n",
      " |-- Source: string (nullable = true)\n",
      " |-- Location Source: string (nullable = true)\n",
      " |-- Magnitude Source: string (nullable = true)\n",
      " |-- Status: string (nullable = true)\n",
      "\n"
     ]
    }
   ],
   "source": [
    "df.printSchema()"
   ]
  },
  {
   "cell_type": "code",
   "execution_count": 15,
   "id": "0c7287d7",
   "metadata": {},
   "outputs": [],
   "source": [
    "# Extracting day of the week from the date column\n",
    "df = df.withColumn('dayofweek', date_format(df.Date, 'EEEE'))"
   ]
  },
  {
   "cell_type": "code",
   "execution_count": 16,
   "id": "8bb9d52f",
   "metadata": {},
   "outputs": [],
   "source": [
    "# relation with day of the week and no. of earthquakes\n",
    "from pyspark.sql.functions import count, desc\n",
    "dow_effect = df.groupBy('dayofweek').agg(count(col('dayofweek')).alias('no_of_earthquakes')).sort(col('no_of_earthquakes').desc())"
   ]
  },
  {
   "cell_type": "code",
   "execution_count": 17,
   "id": "b0380147",
   "metadata": {},
   "outputs": [
    {
     "name": "stdout",
     "output_type": "stream",
     "text": [
      "+---------+-----------------+\n",
      "|dayofweek|no_of_earthquakes|\n",
      "+---------+-----------------+\n",
      "| Saturday|             3433|\n",
      "|Wednesday|             3431|\n",
      "|   Friday|             3362|\n",
      "|   Monday|             3349|\n",
      "| Thursday|             3306|\n",
      "|   Sunday|             3287|\n",
      "|  Tuesday|             3244|\n",
      "+---------+-----------------+\n",
      "\n"
     ]
    }
   ],
   "source": [
    "dow_effect.show()"
   ]
  },
  {
   "cell_type": "code",
   "execution_count": 18,
   "id": "b5401c50",
   "metadata": {},
   "outputs": [
    {
     "name": "stdout",
     "output_type": "stream",
     "text": [
      "Highest to lowest percent difference: 5.505388872706088\n"
     ]
    }
   ],
   "source": [
    "# percentage difference in highest and lowest no. of earthquakes\n",
    "from pyspark.sql.functions import max, min\n",
    "max_value = dow_effect.agg({'no_of_earthquakes':'max'}).collect()[0][0]\n",
    "min_value = dow_effect.agg({'no_of_earthquakes':'min'}).collect()[0][0]\n",
    "print(\"Highest to lowest percent difference:\", (max_value-min_value)/max_value*100)"
   ]
  },
  {
   "cell_type": "markdown",
   "id": "da2fa4ec",
   "metadata": {},
   "source": [
    "#### Relation between day of the week and earthquakes are as follows:\n",
    "- Highest no. of earthquakes are encountered on  Saturday\n",
    "- Lowest no. of earthquakes are encountered on Tuesday\n",
    "- There is 5% more of earthquakes on Saturday than tuesday"
   ]
  },
  {
   "cell_type": "markdown",
   "id": "f3a2f327",
   "metadata": {},
   "source": [
    "###  What is the relation between Day of the month and Number of earthquakes thathappened in a year?\n"
   ]
  },
  {
   "cell_type": "code",
   "execution_count": 19,
   "id": "e3e69551",
   "metadata": {},
   "outputs": [],
   "source": [
    "# relation with day of the month and no. of earthquakes\n",
    "df = df.withColumn('dayofmonth', dayofmonth(df.Date))\n",
    "dom_effect = df.groupBy('dayofmonth').agg(count(col('dayofmonth')).alias('no_of_earthquakes')).sort(col('no_of_earthquakes').desc())"
   ]
  },
  {
   "cell_type": "code",
   "execution_count": 20,
   "id": "65798ac4",
   "metadata": {},
   "outputs": [
    {
     "name": "stdout",
     "output_type": "stream",
     "text": [
      "+----------+-----------------+\n",
      "|dayofmonth|no_of_earthquakes|\n",
      "+----------+-----------------+\n",
      "|        11|              905|\n",
      "|        17|              848|\n",
      "|        23|              838|\n",
      "|        20|              825|\n",
      "|        16|              807|\n",
      "|        14|              805|\n",
      "|        26|              801|\n",
      "|        28|              800|\n",
      "|        12|              793|\n",
      "|         7|              783|\n",
      "|         3|              782|\n",
      "|        21|              776|\n",
      "|        15|              775|\n",
      "|         1|              773|\n",
      "|        18|              773|\n",
      "|         5|              769|\n",
      "|        10|              766|\n",
      "|        13|              764|\n",
      "|        19|              763|\n",
      "|        25|              763|\n",
      "|        24|              760|\n",
      "|         6|              746|\n",
      "|         4|              732|\n",
      "|         8|              732|\n",
      "|         9|              714|\n",
      "|        27|              711|\n",
      "|         2|              706|\n",
      "|        22|              705|\n",
      "|        29|              679|\n",
      "|        30|              672|\n",
      "|        31|              346|\n",
      "+----------+-----------------+\n",
      "\n"
     ]
    }
   ],
   "source": [
    "dom_effect.show(31)"
   ]
  },
  {
   "cell_type": "markdown",
   "id": "7cefc0bd",
   "metadata": {},
   "source": [
    "#### Relation of day of the month with no. of earthquakes are as follows:\n",
    "- 11th day of the month has encountered highest no. of earthquakes.\n",
    "- 31th day of the month has encountered the lowest no. of earthquakes. But, it also comes almost half of the times than other days.\n",
    "- We can assume that the 30th day of the month has the lowest no. of earthquakes."
   ]
  },
  {
   "cell_type": "markdown",
   "id": "1cf9bdd0",
   "metadata": {},
   "source": [
    "### What does the average frequency of earthquakes in a month from the year 1965 to 2016 tell us?\n"
   ]
  },
  {
   "cell_type": "code",
   "execution_count": 50,
   "id": "25280fa4",
   "metadata": {},
   "outputs": [
    {
     "name": "stdout",
     "output_type": "stream",
     "text": [
      "+-----+----------------------------+\n",
      "|month|frequency_per_month_per_year|\n",
      "+-----+----------------------------+\n",
      "|    3|          41.450980392156865|\n",
      "|    8|          39.490196078431374|\n",
      "|   12|           39.23529411764706|\n",
      "|   11|           38.96078431372549|\n",
      "|    9|           38.92156862745098|\n",
      "|    4|           38.64705882352941|\n",
      "|    5|          38.509803921568626|\n",
      "|   10|           38.27450980392157|\n",
      "|    1|           37.07843137254902|\n",
      "|    7|           36.86274509803921|\n",
      "|    2|           35.86274509803921|\n",
      "|    6|           35.76470588235294|\n",
      "+-----+----------------------------+\n",
      "\n"
     ]
    }
   ],
   "source": [
    "sql = \"\"\"select month(date) as month, count(month(date))/(2016-1965) as frequency_per_month_per_year from {df} \n",
    "    where year(date) between 1965 and 2016\n",
    "    group by month(date)\n",
    "    order by frequency_per_month_per_year desc\n",
    "    \"\"\"\n",
    "spark.sql(sql, df=df).show()"
   ]
  },
  {
   "cell_type": "markdown",
   "id": "4dbb28d6",
   "metadata": {},
   "source": [
    "### What is the relation between Year and Number of earthquakes that happened in that year?"
   ]
  },
  {
   "cell_type": "code",
   "execution_count": 72,
   "id": "06b007a1",
   "metadata": {},
   "outputs": [
    {
     "data": {
      "text/plain": [
       "0.7087157621721392"
      ]
     },
     "execution_count": 72,
     "metadata": {},
     "output_type": "execute_result"
    }
   ],
   "source": [
    "sql = \"\"\"\n",
    "    select year(date) as year, count(1) as no_of_earthquakes\n",
    "    from {df}\n",
    "    group by year(date)\n",
    "    order by no_of_earthquakes desc\n",
    "\"\"\"\n",
    "spark.sql(sql, df=df).corr('year','no_of_earthquakes')"
   ]
  },
  {
   "cell_type": "code",
   "execution_count": 73,
   "id": "1d77b5c7",
   "metadata": {},
   "outputs": [
    {
     "name": "stdout",
     "output_type": "stream",
     "text": [
      "+----+-----------------+\n",
      "|year|no_of_earthquakes|\n",
      "+----+-----------------+\n",
      "|2011|              713|\n",
      "+----+-----------------+\n",
      "\n"
     ]
    }
   ],
   "source": [
    "sql = \"\"\"\n",
    "    select year(date) as year, count(1) as no_of_earthquakes\n",
    "    from {df}\n",
    "    group by year(date)\n",
    "    order by no_of_earthquakes desc\n",
    "    limit 1\n",
    "\"\"\"\n",
    "spark.sql(sql, df=df).show()"
   ]
  },
  {
   "cell_type": "code",
   "execution_count": 74,
   "id": "2e87ac83",
   "metadata": {},
   "outputs": [
    {
     "name": "stdout",
     "output_type": "stream",
     "text": [
      "+----+-----------------+\n",
      "|year|no_of_earthquakes|\n",
      "+----+-----------------+\n",
      "|1966|              234|\n",
      "+----+-----------------+\n",
      "\n"
     ]
    }
   ],
   "source": [
    "sql = \"\"\"\n",
    "    select year(date) as year, count(1) as no_of_earthquakes\n",
    "    from {df}\n",
    "    group by year(date)\n",
    "    order by no_of_earthquakes\n",
    "    limit 1\n",
    "\"\"\"\n",
    "spark.sql(sql, df=df).show()"
   ]
  },
  {
   "cell_type": "markdown",
   "id": "10120a58",
   "metadata": {},
   "source": [
    "#### Relation between year and no. of earthquakes are as follows:\n",
    "- There is positive relation of 0.70 between year and no. of earthquakes.\n",
    "- Earthquakes are generally increasing with the increasing year\n",
    "- Highest no. of earthquakes (713) are encountered in the year 2011\n",
    "- Lowest no. of earthquakes (234) are encountered in the year 1966"
   ]
  },
  {
   "cell_type": "markdown",
   "id": "f7b9b009",
   "metadata": {},
   "source": [
    "###  How has the earthquake magnitude on average been varied over the years?"
   ]
  },
  {
   "cell_type": "code",
   "execution_count": 78,
   "id": "af4fa322",
   "metadata": {},
   "outputs": [
    {
     "name": "stdout",
     "output_type": "stream",
     "text": [
      "+----+------------------+\n",
      "|year| average_magnitude|\n",
      "+----+------------------+\n",
      "|1990| 5.860624999999987|\n",
      "|1975| 5.848276699029118|\n",
      "|1977| 5.783764705882346|\n",
      "|2003| 5.885731958762881|\n",
      "|2007| 5.886019736842098|\n",
      "|1974| 5.830332409972294|\n",
      "|2015| 5.913071748878919|\n",
      "|2006| 5.859645669291335|\n",
      "|1978|5.8185365853658455|\n",
      "|2013| 5.881778741865502|\n",
      "|1988| 5.848875255623711|\n",
      "|1997| 5.859868421052616|\n",
      "|1994|5.8774999999999915|\n",
      "|1968| 6.078524590163932|\n",
      "|2014| 5.886916666666659|\n",
      "|1973| 5.814064837905229|\n",
      "|1979| 5.828370786516847|\n",
      "|1971| 5.972538860103624|\n",
      "|1966| 6.040470085470085|\n",
      "|2004| 5.850910683012252|\n",
      "+----+------------------+\n",
      "only showing top 20 rows\n",
      "\n"
     ]
    }
   ],
   "source": [
    "sql = \"\"\"\n",
    "    select year(date) as year, avg(magnitude) as average_magnitude\n",
    "    from {df}\n",
    "    group by year(date)\n",
    "\"\"\"\n",
    "\n",
    "spark.sql(sql, df=df).show()"
   ]
  },
  {
   "cell_type": "code",
   "execution_count": 79,
   "id": "61c89bc0",
   "metadata": {},
   "outputs": [
    {
     "data": {
      "text/plain": [
       "-0.34171150441072706"
      ]
     },
     "execution_count": 79,
     "metadata": {},
     "output_type": "execute_result"
    }
   ],
   "source": [
    "spark.sql(sql, df=df).corr('year', 'average_magnitude')"
   ]
  },
  {
   "cell_type": "code",
   "execution_count": 81,
   "id": "ef3c65fd",
   "metadata": {},
   "outputs": [
    {
     "name": "stdout",
     "output_type": "stream",
     "text": [
      "+----+-----------------+\n",
      "|year|average_magnitude|\n",
      "+----+-----------------+\n",
      "|1968|6.078524590163932|\n",
      "+----+-----------------+\n",
      "\n"
     ]
    }
   ],
   "source": [
    "sql = \"\"\"\n",
    "    select year(date) as year, avg(magnitude) as average_magnitude\n",
    "    from {df}\n",
    "    group by year(date)\n",
    "    order by average_magnitude desc\n",
    "    limit 1\n",
    "\"\"\"\n",
    "\n",
    "spark.sql(sql, df=df).show()"
   ]
  },
  {
   "cell_type": "code",
   "execution_count": 83,
   "id": "b165afab",
   "metadata": {},
   "outputs": [
    {
     "name": "stdout",
     "output_type": "stream",
     "text": [
      "+----+-----------------+\n",
      "|year|average_magnitude|\n",
      "+----+-----------------+\n",
      "|1977|5.783764705882346|\n",
      "+----+-----------------+\n",
      "\n"
     ]
    }
   ],
   "source": [
    "sql = \"\"\"\n",
    "    select year(date) as year, avg(magnitude) as average_magnitude\n",
    "    from {df}\n",
    "    group by year(date)\n",
    "    order by average_magnitude\n",
    "    limit 1\n",
    "\"\"\"\n",
    "\n",
    "spark.sql(sql, df=df).show()"
   ]
  },
  {
   "cell_type": "markdown",
   "id": "31f022fd",
   "metadata": {},
   "source": [
    "#### There is negative correlation of 0.34 with year and average magnitude\n",
    "- Highest average magnitude recorded is 6.07 in the year 1968\n",
    "- Lowest average magnitude recorded is 5.78 in the year 1977\n",
    "- From here it can see, there is less impact average magnitude with the year."
   ]
  },
  {
   "cell_type": "markdown",
   "id": "f984f787",
   "metadata": {},
   "source": [
    "### How does year impact the standard deviation of the earthquakes?\n"
   ]
  },
  {
   "cell_type": "code",
   "execution_count": 88,
   "id": "b4608855",
   "metadata": {},
   "outputs": [],
   "source": [
    "stdDF = df.groupBy(year(col('Date')).alias('year')).agg(stddev(df.Depth).alias('std'))"
   ]
  },
  {
   "cell_type": "code",
   "execution_count": 89,
   "id": "9246b05a",
   "metadata": {},
   "outputs": [
    {
     "data": {
      "text/plain": [
       "0.29298642814638354"
      ]
     },
     "execution_count": 89,
     "metadata": {},
     "output_type": "execute_result"
    }
   ],
   "source": [
    "stdDF.corr('year','std')"
   ]
  },
  {
   "cell_type": "code",
   "execution_count": 91,
   "id": "6087c2d1",
   "metadata": {},
   "outputs": [],
   "source": [
    "max_value = stdDF.agg({'std':'max'}).collect()[0][0]\n",
    "min_value = stdDF.agg({'std':'min'}).collect()[0][0]"
   ]
  },
  {
   "cell_type": "code",
   "execution_count": 92,
   "id": "ea5f3731",
   "metadata": {},
   "outputs": [
    {
     "name": "stdout",
     "output_type": "stream",
     "text": [
      "max_value: 169.08582392602557\n",
      "min_value: 92.85854039532533\n"
     ]
    }
   ],
   "source": [
    "print(\"max_value:\", max_value)\n",
    "print(\"min_value:\", min_value)"
   ]
  },
  {
   "cell_type": "code",
   "execution_count": 95,
   "id": "4f79bfe8",
   "metadata": {},
   "outputs": [
    {
     "name": "stdout",
     "output_type": "stream",
     "text": [
      "+----+------------------+\n",
      "|year|               std|\n",
      "+----+------------------+\n",
      "|2002|169.08582392602557|\n",
      "+----+------------------+\n",
      "only showing top 1 row\n",
      "\n"
     ]
    }
   ],
   "source": [
    "stdDF.sort(col('std').desc()).show(1)"
   ]
  },
  {
   "cell_type": "code",
   "execution_count": 96,
   "id": "47286eb9",
   "metadata": {},
   "outputs": [
    {
     "name": "stdout",
     "output_type": "stream",
     "text": [
      "+----+-----------------+\n",
      "|year|              std|\n",
      "+----+-----------------+\n",
      "|1976|92.85854039532533|\n",
      "+----+-----------------+\n",
      "only showing top 1 row\n",
      "\n"
     ]
    }
   ],
   "source": [
    "stdDF.sort(col('std')).show(1)"
   ]
  },
  {
   "cell_type": "markdown",
   "id": "c62b58b1",
   "metadata": {},
   "source": [
    "### With year there is slight rise in standard deviation of the earthquakes\n",
    "- Minimum std is 92.85 in the year 1976\n",
    "- maximun std is 169.08 in the year 2002\n",
    "- Positive correlation of 0.29 between the year and standard deviation"
   ]
  },
  {
   "cell_type": "markdown",
   "id": "6c8affb5",
   "metadata": {},
   "source": [
    "### Does geographic location have anything to do with earthquakes?"
   ]
  },
  {
   "cell_type": "code",
   "execution_count": 97,
   "id": "f0bd8152",
   "metadata": {},
   "outputs": [],
   "source": [
    "geoDF = df.groupBy(['Latitude', 'Longitude']).count()"
   ]
  },
  {
   "cell_type": "code",
   "execution_count": 100,
   "id": "979bf135",
   "metadata": {},
   "outputs": [
    {
     "name": "stdout",
     "output_type": "stream",
     "text": [
      "+--------+---------+-----+\n",
      "|Latitude|Longitude|count|\n",
      "+--------+---------+-----+\n",
      "|  51.752|    175.5|    1|\n",
      "+--------+---------+-----+\n",
      "only showing top 1 row\n",
      "\n"
     ]
    }
   ],
   "source": [
    "geoDF.sort(col('count')).show(1)"
   ]
  },
  {
   "cell_type": "code",
   "execution_count": 101,
   "id": "b30206c9",
   "metadata": {},
   "outputs": [
    {
     "name": "stdout",
     "output_type": "stream",
     "text": [
      "+--------+---------+-----+\n",
      "|Latitude|Longitude|count|\n",
      "+--------+---------+-----+\n",
      "|    51.5|   -174.8|    4|\n",
      "+--------+---------+-----+\n",
      "only showing top 1 row\n",
      "\n"
     ]
    }
   ],
   "source": [
    "geoDF.sort(col('count').desc()).show(1)"
   ]
  },
  {
   "cell_type": "code",
   "execution_count": 108,
   "id": "c3d8cb58",
   "metadata": {},
   "outputs": [],
   "source": [
    "geoMax = df.groupBy(['Latitude', 'Longitude']).agg(max(col('depth')).alias('max_depth'))"
   ]
  },
  {
   "cell_type": "code",
   "execution_count": 111,
   "id": "baa9c0ca",
   "metadata": {},
   "outputs": [
    {
     "name": "stdout",
     "output_type": "stream",
     "text": [
      "+--------+---------+---------+\n",
      "|Latitude|Longitude|max_depth|\n",
      "+--------+---------+---------+\n",
      "|  34.131| -116.408|     -1.1|\n",
      "+--------+---------+---------+\n",
      "only showing top 1 row\n",
      "\n"
     ]
    }
   ],
   "source": [
    "geoMax.sort(col('max_depth')).show(1)"
   ]
  },
  {
   "cell_type": "code",
   "execution_count": 112,
   "id": "6dfda707",
   "metadata": {},
   "outputs": [
    {
     "name": "stdout",
     "output_type": "stream",
     "text": [
      "+--------+---------+---------+\n",
      "|Latitude|Longitude|max_depth|\n",
      "+--------+---------+---------+\n",
      "| -20.158| -179.163|    700.0|\n",
      "+--------+---------+---------+\n",
      "only showing top 1 row\n",
      "\n"
     ]
    }
   ],
   "source": [
    "geoMax.sort(col('max_depth').desc()).show(1)"
   ]
  },
  {
   "cell_type": "markdown",
   "id": "1f205866",
   "metadata": {},
   "source": [
    "### Geographic location and earthquakes:\n",
    "- Location(-20.158, -179.169) encountered the highest depth of earthquake.\n",
    "- Location(34.131, -116.408) encountered the lowest depth of earthquake."
   ]
  },
  {
   "cell_type": "markdown",
   "id": "513a5316",
   "metadata": {},
   "source": [
    "### Where do earthquakes occur very frequently?\n",
    "- Location(51.5, -174.8) has encountered maximum no. of earthquakes i.e. 4."
   ]
  },
  {
   "cell_type": "code",
   "execution_count": null,
   "id": "429555d3",
   "metadata": {},
   "outputs": [],
   "source": []
  }
 ],
 "metadata": {
  "kernelspec": {
   "display_name": "Python 3 (ipykernel)",
   "language": "python",
   "name": "python3"
  },
  "language_info": {
   "codemirror_mode": {
    "name": "ipython",
    "version": 3
   },
   "file_extension": ".py",
   "mimetype": "text/x-python",
   "name": "python",
   "nbconvert_exporter": "python",
   "pygments_lexer": "ipython3",
   "version": "3.10.8"
  }
 },
 "nbformat": 4,
 "nbformat_minor": 5
}
